{
 "cells": [
  {
   "cell_type": "code",
   "execution_count": 39,
   "metadata": {},
   "outputs": [],
   "source": [
    "import pandas as pd\n",
    "import numpy as np\n",
    "import matplotlib.pyplot as plt\n",
    "import seaborn as sns\n",
    "import folium\n",
    "import geopy\n",
    "import nominatim\n",
    "import requests\n",
    "\n",
    "derecho911_df = pd.read_csv('../data/911_Phone Calls_Derecho_050320 050420.csv')\n",
    "tornado911_df = pd.read_csv('../data/911_Phone_Calls_Tornado_030320.csv')\n",
    "derecho_incidents_df = pd.read_csv('../data/Computer Aided Dispatch Data_Derecho Incidents 050320-050420.csv', skiprows=3)\n",
    "tornado_incidents_df = pd.read_csv('../data/Computer Aided Dispatch Data_Tornado Incidents 030320.csv', skiprows=3)\n",
    "single_family_housing_df = pd.read_csv('../data/2017 single family_final_with_sqft.txt')"
   ]
  },
  {
   "cell_type": "code",
   "execution_count": 17,
   "metadata": {},
   "outputs": [
    {
     "data": {
      "text/html": [
       "<div>\n",
       "<style scoped>\n",
       "    .dataframe tbody tr th:only-of-type {\n",
       "        vertical-align: middle;\n",
       "    }\n",
       "\n",
       "    .dataframe tbody tr th {\n",
       "        vertical-align: top;\n",
       "    }\n",
       "\n",
       "    .dataframe thead th {\n",
       "        text-align: right;\n",
       "    }\n",
       "</style>\n",
       "<table border=\"1\" class=\"dataframe\">\n",
       "  <thead>\n",
       "    <tr style=\"text-align: right;\">\n",
       "      <th></th>\n",
       "      <th>Seizure DateTime</th>\n",
       "      <th>CallTypeId</th>\n",
       "      <th>ALI Latitude</th>\n",
       "      <th>ALI Longitude</th>\n",
       "      <th>Cell Tower Address</th>\n",
       "    </tr>\n",
       "  </thead>\n",
       "  <tbody>\n",
       "    <tr>\n",
       "      <th>0</th>\n",
       "      <td>5/3/2020 16:30</td>\n",
       "      <td>911 Calls</td>\n",
       "      <td>36.247802</td>\n",
       "      <td>-86.716847</td>\n",
       "      <td>WIRELESS CALLER</td>\n",
       "    </tr>\n",
       "    <tr>\n",
       "      <th>1</th>\n",
       "      <td>5/3/2020 16:30</td>\n",
       "      <td>911 Calls</td>\n",
       "      <td>36.143108</td>\n",
       "      <td>-86.800621</td>\n",
       "      <td>1161 21ST AV S - SE</td>\n",
       "    </tr>\n",
       "    <tr>\n",
       "      <th>2</th>\n",
       "      <td>5/3/2020 16:30</td>\n",
       "      <td>911 Calls</td>\n",
       "      <td>36.100516</td>\n",
       "      <td>-87.056329</td>\n",
       "      <td>8013 C MCCRORY LN - N</td>\n",
       "    </tr>\n",
       "    <tr>\n",
       "      <th>3</th>\n",
       "      <td>5/3/2020 16:30</td>\n",
       "      <td>911 Calls</td>\n",
       "      <td>36.130021</td>\n",
       "      <td>-86.927819</td>\n",
       "      <td>5758 RIVER RD - SW</td>\n",
       "    </tr>\n",
       "    <tr>\n",
       "      <th>4</th>\n",
       "      <td>5/3/2020 16:31</td>\n",
       "      <td>911 Calls</td>\n",
       "      <td>36.142380</td>\n",
       "      <td>-86.881882</td>\n",
       "      <td>3744B ANNEX AVE - SE</td>\n",
       "    </tr>\n",
       "  </tbody>\n",
       "</table>\n",
       "</div>"
      ],
      "text/plain": [
       "  Seizure DateTime CallTypeId  ALI Latitude  ALI Longitude  \\\n",
       "0   5/3/2020 16:30  911 Calls     36.247802     -86.716847   \n",
       "1   5/3/2020 16:30  911 Calls     36.143108     -86.800621   \n",
       "2   5/3/2020 16:30  911 Calls     36.100516     -87.056329   \n",
       "3   5/3/2020 16:30  911 Calls     36.130021     -86.927819   \n",
       "4   5/3/2020 16:31  911 Calls     36.142380     -86.881882   \n",
       "\n",
       "      Cell Tower Address  \n",
       "0        WIRELESS CALLER  \n",
       "1    1161 21ST AV S - SE  \n",
       "2  8013 C MCCRORY LN - N  \n",
       "3     5758 RIVER RD - SW  \n",
       "4   3744B ANNEX AVE - SE  "
      ]
     },
     "execution_count": 17,
     "metadata": {},
     "output_type": "execute_result"
    }
   ],
   "source": [
    "derecho_incidents_df['IncidentTypeDescription1'].value_counts()\n",
    "derecho911_df.head()"
   ]
  },
  {
   "cell_type": "code",
   "execution_count": 18,
   "metadata": {},
   "outputs": [
    {
     "data": {
      "text/plain": [
       "2888680"
      ]
     },
     "execution_count": 18,
     "metadata": {},
     "output_type": "execute_result"
    }
   ],
   "source": [
    "##print(derecho_incidents_df['IncidentDate'])\n",
    "single_family_housing_df['2017 TOTAL ASSD'].max()"
   ]
  },
  {
   "cell_type": "code",
   "execution_count": 27,
   "metadata": {},
   "outputs": [
    {
     "name": "stdout",
     "output_type": "stream",
     "text": [
      "     Seizure DateTime CallTypeId  ALI Latitude  ALI Longitude  \\\n",
      "49     5/3/2020 16:39  911 Calls           NaN            NaN   \n",
      "53     5/3/2020 16:41  911 Calls           NaN            NaN   \n",
      "56     5/3/2020 16:41  911 Calls           NaN            NaN   \n",
      "141    5/3/2020 16:59  911 Calls           NaN            NaN   \n",
      "142    5/3/2020 17:00  911 Calls           NaN            NaN   \n",
      "...               ...        ...           ...            ...   \n",
      "1435   5/3/2020 22:31  911 Calls           NaN            NaN   \n",
      "1470   5/3/2020 22:54  911 Calls           NaN            NaN   \n",
      "1472   5/3/2020 22:55  911 Calls           NaN            NaN   \n",
      "1499   5/3/2020 23:17  911 Calls           NaN            NaN   \n",
      "1548    5/4/2020 0:29  911 Calls           NaN            NaN   \n",
      "\n",
      "         Cell Tower Address  \n",
      "49                      NaN  \n",
      "53                      NaN  \n",
      "56                      NaN  \n",
      "141                     NaN  \n",
      "142                     NaN  \n",
      "...                     ...  \n",
      "1435         5600 OBRIEN AV  \n",
      "1470            712 MAIN ST  \n",
      "1472            712 MAIN ST  \n",
      "1499       4220 HARDING PKE  \n",
      "1548  2014 QUAIL HOLLOW CIR  \n",
      "\n",
      "[66 rows x 5 columns]\n"
     ]
    }
   ],
   "source": [
    "derech_nans = derecho911_df['ALI Latitude'].isna()\n",
    "derecho911_nans_df = derecho911_df[derech_nans]\n",
    "print(derecho911_nans_df)"
   ]
  },
  {
   "cell_type": "code",
   "execution_count": 64,
   "metadata": {
    "scrolled": false
   },
   "outputs": [
    {
     "name": "stdout",
     "output_type": "stream",
     "text": [
      "37206\n"
     ]
    }
   ],
   "source": [
    "HOST = \"https://nominatim.openstreetmap.org/search?q=\"\n",
    "HOST = HOST + '712 Main Street'\n",
    "HOST = HOST + ',Nashville,Tennessee&format=json&polygon=1&addressdetails=1'\n",
    "req = requests.get(HOST)\n",
    "req_dict = req.json()\n",
    "print(req_dict[0]['address']['postcode'])\n",
    "##df2 = pd.DataFrame(columns=col_names, data=req.json()[1:])\n",
    "##df2.head()"
   ]
  },
  {
   "cell_type": "code",
   "execution_count": 58,
   "metadata": {},
   "outputs": [
    {
     "name": "stdout",
     "output_type": "stream",
     "text": [
      "0    {'place_id': 266399049, 'licence': 'Data © Ope...\n",
      "dtype: object\n"
     ]
    }
   ],
   "source": [
    "pd.Series(data=req.json()[:])"
   ]
  },
  {
   "cell_type": "code",
   "execution_count": 20,
   "metadata": {},
   "outputs": [],
   "source": [
    "derech_not_nans = derecho911_df['ALI Latitude'].notna()\n",
    "derecho911_df = derecho911_df[derech_not_nans]"
   ]
  },
  {
   "cell_type": "code",
   "execution_count": 21,
   "metadata": {},
   "outputs": [
    {
     "data": {
      "text/plain": [
       "(1483, 5)"
      ]
     },
     "execution_count": 21,
     "metadata": {},
     "output_type": "execute_result"
    }
   ],
   "source": [
    "derecho911_df.shape"
   ]
  },
  {
   "cell_type": "code",
   "execution_count": null,
   "metadata": {},
   "outputs": [],
   "source": [
    "derecho911_df['ALI Latitude'] = derecho911_df['ALI Latitude'].fillna(0)\n",
    "derecho911_df['ALI Longitude'] = derecho911_df['ALI Longitude'].fillna(0)\n",
    "##Turn NaNs into zeroes\n",
    "derecho911_df['LatLong'] = derecho911_df.apply(lambda row: [row['ALI Latitude'], row['ALI Longitude']], axis=1)\n",
    "##Make a latLong column which contains an array which is the form required for map markers"
   ]
  },
  {
   "cell_type": "code",
   "execution_count": null,
   "metadata": {},
   "outputs": [],
   "source": [
    "derech_map = folium.Map(location=[36.247802, -86.716847], zoom_start=10)\n",
    "##This is an arbitrary location within Nashville to start; this could be more centered"
   ]
  },
  {
   "cell_type": "code",
   "execution_count": null,
   "metadata": {},
   "outputs": [],
   "source": [
    "folium.TileLayer('stamentoner').add_to(derech_map)"
   ]
  },
  {
   "cell_type": "code",
   "execution_count": null,
   "metadata": {},
   "outputs": [],
   "source": [
    "for location in derecho911_df['LatLong']:\n",
    "    folium.Marker(location=location).add_to(derech_map)"
   ]
  },
  {
   "cell_type": "code",
   "execution_count": null,
   "metadata": {},
   "outputs": [],
   "source": [
    "map"
   ]
  },
  {
   "cell_type": "code",
   "execution_count": null,
   "metadata": {},
   "outputs": [],
   "source": [
    "tornado911_df['ALI Latitude'] = tornado911_df['ALI Latitude'].fillna(0)\n",
    "tornado911_df['ALI Longitude'] = tornado911_df['ALI Longitude'].fillna(0)\n",
    "##Turn NaNs into zeroes\n",
    "tornado911_df['LatLong'] = tornado911_df.apply(lambda row: [row['ALI Latitude'], row['ALI Longitude']], axis=1)\n",
    "##Make a latLong column which contains an array which is the form required for map markers"
   ]
  },
  {
   "cell_type": "code",
   "execution_count": null,
   "metadata": {},
   "outputs": [],
   "source": [
    "torn_map = folium.Map(location=[36.247802, -86.716847], zoom_start=10)\n",
    "##This is an arbitrary location within Nashville to start; this could be more centered\n",
    "folium.TileLayer('stamentoner').add_to(torn_map)\n",
    "for location in tornado911_df['LatLong']:\n",
    "    folium.Marker(location=location).add_to(torn_map)\n",
    "torn_map"
   ]
  },
  {
   "cell_type": "code",
   "execution_count": null,
   "metadata": {},
   "outputs": [],
   "source": [
    "derecho_incidents_df['Latitude1'] = derecho_incidents_df['Latitude1'].fillna(0)\n",
    "derecho_incidents_df['Longitude1'] = derecho_incidents_df['Longitude1'].fillna(0)\n",
    "##Turn NaNs into zeroes\n",
    "derecho_incidents_df['LatLong'] = derecho_incidents_df.apply(lambda row: [row['Latitude1'], row['Longitude1']], axis=1)\n",
    "##Make a latLong column which contains an array which is the form required for map markers\n",
    "derech_inc_map = folium.Map(location=[36.247802, -86.716847], zoom_start=10)\n",
    "##This is an arbitrary location within Nashville to start; this could be more centered\n",
    "folium.TileLayer('stamentoner').add_to(derech_inc_map)\n",
    "for location in derecho_incidents_df['LatLong']:\n",
    "    folium.Marker(location=location).add_to(derech_inc_map)\n",
    "derech_inc_map"
   ]
  },
  {
   "cell_type": "code",
   "execution_count": null,
   "metadata": {},
   "outputs": [],
   "source": [
    "tornado_incidents_df['Latitude1'] = tornado_incidents_df['Latitude1'].fillna(0)\n",
    "tornado_incidents_df['Longitude1'] = tornado_incidents_df['Longitude1'].fillna(0)\n",
    "##Turn NaNs into zeroes\n",
    "tornado_incidents_df['LatLong'] = tornado_incidents_df.apply(lambda row: [row['Latitude1'], row['Longitude1']], axis=1)\n",
    "##Make a latLong column which contains an array which is the form required for map markers\n",
    "torn_inc_map = folium.Map(location=[36.247802, -86.716847], zoom_start=10)\n",
    "##This is an arbitrary location within Nashville to start; this could be more centered\n",
    "folium.TileLayer('stamentoner').add_to(torn_inc_map)\n",
    "for location in tornado_incidents_df['LatLong']:\n",
    "    folium.Marker(location=location).add_to(torn_inc_map)\n",
    "torn_inc_map"
   ]
  },
  {
   "cell_type": "code",
   "execution_count": null,
   "metadata": {},
   "outputs": [],
   "source": []
  }
 ],
 "metadata": {
  "kernelspec": {
   "display_name": "Python 3",
   "language": "python",
   "name": "python3"
  },
  "language_info": {
   "codemirror_mode": {
    "name": "ipython",
    "version": 3
   },
   "file_extension": ".py",
   "mimetype": "text/x-python",
   "name": "python",
   "nbconvert_exporter": "python",
   "pygments_lexer": "ipython3",
   "version": "3.8.5"
  }
 },
 "nbformat": 4,
 "nbformat_minor": 4
}
