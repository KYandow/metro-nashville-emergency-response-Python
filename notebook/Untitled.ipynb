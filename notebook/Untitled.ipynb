{
 "cells": [
  {
   "cell_type": "code",
   "execution_count": 1,
   "metadata": {},
   "outputs": [
    {
     "ename": "ModuleNotFoundError",
     "evalue": "No module named 'Basemap'",
     "output_type": "error",
     "traceback": [
      "\u001b[1;31m---------------------------------------------------------------------------\u001b[0m",
      "\u001b[1;31mModuleNotFoundError\u001b[0m                       Traceback (most recent call last)",
      "\u001b[1;32m<ipython-input-1-f8539b5ea1ba>\u001b[0m in \u001b[0;36m<module>\u001b[1;34m\u001b[0m\n\u001b[0;32m      3\u001b[0m \u001b[1;32mimport\u001b[0m \u001b[0mpandas\u001b[0m \u001b[1;32mas\u001b[0m \u001b[0mpd\u001b[0m\u001b[1;33m\u001b[0m\u001b[1;33m\u001b[0m\u001b[0m\n\u001b[0;32m      4\u001b[0m \u001b[1;32mimport\u001b[0m \u001b[0mglob\u001b[0m\u001b[1;33m\u001b[0m\u001b[1;33m\u001b[0m\u001b[0m\n\u001b[1;32m----> 5\u001b[1;33m \u001b[1;32mimport\u001b[0m \u001b[0mBasemap\u001b[0m\u001b[1;33m\u001b[0m\u001b[1;33m\u001b[0m\u001b[0m\n\u001b[0m\u001b[0;32m      6\u001b[0m \u001b[1;31m####from plotting_topo import plot_topo\u001b[0m\u001b[1;33m\u001b[0m\u001b[1;33m\u001b[0m\u001b[1;33m\u001b[0m\u001b[0m\n\u001b[0;32m      7\u001b[0m \u001b[1;31m####from mpl_toolkits.basemap import Basemap\u001b[0m\u001b[1;33m\u001b[0m\u001b[1;33m\u001b[0m\u001b[1;33m\u001b[0m\u001b[0m\n",
      "\u001b[1;31mModuleNotFoundError\u001b[0m: No module named 'Basemap'"
     ]
    }
   ],
   "source": [
    "import matplotlib.pyplot as plt\n",
    "import numpy as np\n",
    "import pandas as pd\n",
    "import glob\n",
    "import Basemap\n",
    "####from plotting_topo import plot_topo\n",
    "####from mpl_toolkits.basemap import Basemap\n",
    "####from mpl_toolkits.basemap import shiftgrid"
   ]
  },
  {
   "cell_type": "code",
   "execution_count": 4,
   "metadata": {},
   "outputs": [
    {
     "name": "stdout",
     "output_type": "stream",
     "text": [
      "Requirement already satisfied: Basemap in c:\\users\\natalia\\anaconda3\\lib\\site-packages (1.2.1)\n",
      "Requirement already satisfied: matplotlib!=3.0.1,>=1.0.0 in c:\\users\\natalia\\anaconda3\\lib\\site-packages (from Basemap) (3.1.3)\n",
      "Requirement already satisfied: numpy>=1.2.1 in c:\\users\\natalia\\anaconda3\\lib\\site-packages (from Basemap) (1.18.1)\n",
      "Requirement already satisfied: pyproj>=1.9.3 in c:\\users\\natalia\\anaconda3\\lib\\site-packages (from Basemap) (2.6.1.post1)\n",
      "Requirement already satisfied: pyshp>=1.2.0 in c:\\users\\natalia\\anaconda3\\lib\\site-packages (from Basemap) (2.1.2)\n",
      "Requirement already satisfied: six in c:\\users\\natalia\\anaconda3\\lib\\site-packages (from Basemap) (1.14.0)\n",
      "Requirement already satisfied: kiwisolver>=1.0.1 in c:\\users\\natalia\\anaconda3\\lib\\site-packages (from matplotlib!=3.0.1,>=1.0.0->Basemap) (1.1.0)\n",
      "Requirement already satisfied: cycler>=0.10 in c:\\users\\natalia\\anaconda3\\lib\\site-packages (from matplotlib!=3.0.1,>=1.0.0->Basemap) (0.10.0)\n",
      "Requirement already satisfied: pyparsing!=2.0.4,!=2.1.2,!=2.1.6,>=2.0.1 in c:\\users\\natalia\\anaconda3\\lib\\site-packages (from matplotlib!=3.0.1,>=1.0.0->Basemap) (2.4.6)\n",
      "Requirement already satisfied: python-dateutil>=2.1 in c:\\users\\natalia\\anaconda3\\lib\\site-packages (from matplotlib!=3.0.1,>=1.0.0->Basemap) (2.8.1)\n",
      "Requirement already satisfied: setuptools in c:\\users\\natalia\\anaconda3\\lib\\site-packages (from kiwisolver>=1.0.1->matplotlib!=3.0.1,>=1.0.0->Basemap) (45.2.0.post20200210)\n",
      "Note: you may need to restart the kernel to use updated packages.\n"
     ]
    }
   ],
   "source": [
    "pip install Basemap"
   ]
  },
  {
   "cell_type": "code",
   "execution_count": null,
   "metadata": {},
   "outputs": [],
   "source": [
    "import Basemap"
   ]
  },
  {
   "cell_type": "code",
   "execution_count": 6,
   "metadata": {},
   "outputs": [
    {
     "ename": "SyntaxError",
     "evalue": "unexpected EOF while parsing (<ipython-input-6-61281d27d999>, line 1)",
     "output_type": "error",
     "traceback": [
      "\u001b[1;36m  File \u001b[1;32m\"<ipython-input-6-61281d27d999>\"\u001b[1;36m, line \u001b[1;32m1\u001b[0m\n\u001b[1;33m    def plot_topo(map,cmap=plt.cm.terrain,zorder=0,lonextent=(0,20),latextent=(35,60),plotstyle='pmesh'):\u001b[0m\n\u001b[1;37m                                                                                                         ^\u001b[0m\n\u001b[1;31mSyntaxError\u001b[0m\u001b[1;31m:\u001b[0m unexpected EOF while parsing\n"
     ]
    }
   ],
   "source": [
    "def plot_topo(map,cmap=plt.cm.terrain,zorder=0,lonextent=(0,20),latextent=(35,60),plotstyle='pmesh'):\n"
   ]
  },
  {
   "cell_type": "code",
   "execution_count": null,
   "metadata": {},
   "outputs": [],
   "source": []
  }
 ],
 "metadata": {
  "kernelspec": {
   "display_name": "Python 3",
   "language": "python",
   "name": "python3"
  },
  "language_info": {
   "codemirror_mode": {
    "name": "ipython",
    "version": 3
   },
   "file_extension": ".py",
   "mimetype": "text/x-python",
   "name": "python",
   "nbconvert_exporter": "python",
   "pygments_lexer": "ipython3",
   "version": "3.7.6"
  }
 },
 "nbformat": 4,
 "nbformat_minor": 4
}
