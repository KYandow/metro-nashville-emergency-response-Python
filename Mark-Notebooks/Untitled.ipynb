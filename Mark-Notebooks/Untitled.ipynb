{
 "cells": [
  {
   "cell_type": "markdown",
   "metadata": {},
   "source": [
    "Import Data"
   ]
  },
  {
   "cell_type": "code",
   "execution_count": 25,
   "metadata": {},
   "outputs": [
    {
     "name": "stdout",
     "output_type": "stream",
     "text": [
      "  Seizure DateTime CallTypeId  ALI Latitude  ALI Longitude  \\\n",
      "0   5/3/2020 16:30  911 Calls     36.247802     -86.716847   \n",
      "1   5/3/2020 16:30  911 Calls     36.143108     -86.800621   \n",
      "2   5/3/2020 16:30  911 Calls     36.100516     -87.056329   \n",
      "3   5/3/2020 16:30  911 Calls     36.130021     -86.927819   \n",
      "4   5/3/2020 16:31  911 Calls     36.142380     -86.881882   \n",
      "\n",
      "      Cell Tower Address  \n",
      "0        WIRELESS CALLER  \n",
      "1    1161 21ST AV S - SE  \n",
      "2  8013 C MCCRORY LN - N  \n",
      "3     5758 RIVER RD - SW  \n",
      "4   3744B ANNEX AVE - SE  \n"
     ]
    }
   ],
   "source": [
    "import pandas as pd\n",
    "import numpy as np\n",
    "import matplotlib.pyplot as plt\n",
    "import seaborn as sns\n",
    "\n",
    "Derecho911_df = pd.read_csv(\"..\\data\\911_Phone Calls_Derecho_050320 050420.csv\")\n",
    "Tornado911_df = pd.read_csv(\"..\\data\\911_Phone_Calls_Tornado_030320.csv\")\n",
    "\n",
    "Derecho_incidents_df = pd.read_csv(\"..\\data\\Computer Aided Dispatch Data_Derecho Incidents 050320_050420.csv\", skiprows=3)\n",
    "Tornado_incidents_df = pd.read_csv(\"..\\data\\Computer Aided Dispatch Data_Tornado Incidents 030320.csv\", skiprows=3)\n",
    "\n",
    "print(Derecho911_df.head(5))\n",
    "##print(Tornado911_df.head(5))\n",
    "##print(Derecho_incidents_df.head(5))\n",
    "#print(Tornado_incidents_df.head(5))\n",
    "##print(Tornado_incidents_df.info)\n"
   ]
  },
  {
   "cell_type": "code",
   "execution_count": 21,
   "metadata": {},
   "outputs": [
    {
     "name": "stdout",
     "output_type": "stream",
     "text": [
      "<bound method DataFrame.info of                    APN DistrictCode  Council District  \\\n",
      "0       103020C01300CO         USD                 24   \n",
      "1       103020C01400CO         USD                 24   \n",
      "2       103020C01500CO         USD                 24   \n",
      "3       103020C01600CO         USD                 24   \n",
      "4       103020C01700CO         USD                 24   \n",
      "...                ...          ...               ...   \n",
      "197109  188100A12100CO         GSD                 33   \n",
      "197110  188100A12200CO         GSD                 33   \n",
      "197111  188100A12300CO         GSD                 33   \n",
      "197112  188100A12400CO         GSD                 33   \n",
      "197113  188100A12500CO         GSD                 33   \n",
      "\n",
      "              AddressFullAddress  AddressCity  AddressPostalCode  2017 LAND  \\\n",
      "0       276 WHITE BRIDGE PIKE 13    NASHVILLE              37209      10000   \n",
      "1       276 WHITE BRIDGE PIKE 14    NASHVILLE              37209      10000   \n",
      "2       276 WHITE BRIDGE PIKE 15    NASHVILLE              37209      10000   \n",
      "3       276 WHITE BRIDGE PIKE 16    NASHVILLE              37209      10000   \n",
      "4       276 WHITE BRIDGE PIKE 17    NASHVILLE              37209      10000   \n",
      "...                          ...          ...                ...        ...   \n",
      "197109      1709 PARK TERRACE LN  NOLENSVILLE              37135      48000   \n",
      "197110      1713 PARK TERRACE LN  NOLENSVILLE              37135      48000   \n",
      "197111      1717 PARK TERRACE LN  NOLENSVILLE              37135      48000   \n",
      "197112        2104 GLEN HAVEN DR  NOLENSVILLE              37135      33000   \n",
      "197113        2103 GLEN HAVEN DR  NOLENSVILLE              37135      48000   \n",
      "\n",
      "        2017 IMPR  2017 TOTAL APPR  2017 TOTAL ASSD  FinishedArea  \n",
      "0           39600            49600            19840         567.0  \n",
      "1           45000            55000            13750         567.0  \n",
      "2           39600            49600            19840         567.0  \n",
      "3           45000            55000            13750         567.0  \n",
      "4           45000            55000            22000         567.0  \n",
      "...           ...              ...              ...           ...  \n",
      "197109     286600           334600            83650        2831.0  \n",
      "197110     289400           337400            84350        2774.0  \n",
      "197111     360800           408800           102200        3222.0  \n",
      "197112     187300           220300            55075        1952.0  \n",
      "197113     204700           252700            63175        2077.5  \n",
      "\n",
      "[197114 rows x 11 columns]>\n"
     ]
    }
   ],
   "source": [
    "single_family_housing_df = pd.read_csv('../data/2017 single family_final_with_sqft.txt')\n",
    "print(single_family_housing_df.info)"
   ]
  },
  {
   "cell_type": "code",
   "execution_count": 24,
   "metadata": {},
   "outputs": [
    {
     "name": "stdout",
     "output_type": "stream",
     "text": [
      "6205 COCKRILL BEND CIR 7337 COCKRILL BEND BLVD 110 TUNE AIRPORT DR 555 MARRIOTT DR 1414 COUNTY HOSPITAL RD 1406 COUNTY HOSPITAL RD 920 BROADWAY 518 MONROE ST 1625 DR D B TODD JR BLVD 1625 DR D B TODD JR BLVD 915 3RD AV N415 CHURCH ST901 MONROE ST 1603 COCKRILL ST 1000 ROSA L PARKS BLVD 1000 ROSA L PARKS BLVD 557 REVELS DR7337 COCKRILL BEND BLVD2ND AV N / JEFFERSON ST7135 CENTENNIAL PL299 COWAN ST 1514 17TH AV N201 GIFFORD PL500 CHURCH ST 900 MAIN ST 900 MAIN ST 1608 23RD AV N1608 23RD AV N1400 14TH AV N201 N 8TH ST JEFFERSON ST / ROSA L PARKS BLVD300 DANYACREST DR 99 SPRING ST1220 2ND AV N1000 2ND AV N909 ROSA L PARKS BLVD1809 RUSSELL ST5215 OLD HICKORY BLVD 318 RIVERSIDE DR1072 1ST AV N1211 6TH AV N915 3RD AV N1745 DR D B TODD JR BLVD941 JEFFERSON ST30 MCFERRIN AV2410 LAZENBY DR515 MADISON ST1608 HOLLY ST3008 WHITLAND CROSSING DR 2220 MAPLECREST DR1620 24TH AV N1620 24TH AV N3204 DINAH CT3204 DINAH CT10 S 14TH ST3132 EDGEMONT DR4672 FOREST RIDGE DR8 MCFERRIN AV8 MCFERRIN AV3140 STAFFORD DR5610 OLD HICKORY BLVD1100 3RD AV N1100 3RD AV N120 S 10TH ST120 S 10TH ST263 RIVERSIDE DR1303 WOODLAND ST201 N 8TH ST302 S 15TH ST2140 BROOKVIEW DR731 MARGARET ROBERTSON DROLD HICKORY BLVD / ANDREW JACKSON PKWY1072 1ST AV N7135 CENTENNIAL PL3509 ALBEE DR3509 ALBEE DR209 JACKSON DOWNS BLVD209 JACKSON DOWNS BLVD3113 STAFFORD DR2322 BRITTANY DR1204 WOODLAND ST6121 COCKRILL BEND CIR1709 RUSSELL ST1027 CHEATHAM PL1720 UNDERWOOD ST605 MARGARET ROBERTSON DR2722 FORTLAND DR2722 FORTLAND DR1107 FOREST RIDGE WAY515 MADISON ST1807 LILLIAN ST1900 HOLLY ST408 DENNYWOOD DR2219 MAPLECREST DR1603 COCKRILL ST3609 QUAIL DR3204 DINAH CT1901 HOLLY ST1102 10TH AV N2265 WILLESDEN GREEN230 BURNING TREE DR4107 DODSON CHAPEL CT1409 FATHERLAND ST406 11TH AV N2219 DEARBORN DR1603 21ST AV N3417 LEBANON PKE621 NEILL AV1707 FATHERLAND ST1224 LILLIAN ST1901 HOLLY ST1630 25TH AV N4807 MYRA DROLD HICKORY BLVD / ANDREW JACKSON PKWY1620 FATHERLAND ST1044 RIVERWOOD VILLAGE BLVD1606 22ND AV N403 ACHIEVEMENT DR129 HERMITAGE POINT DR 309 S 10TH ST309 S 10TH ST571 MARGARET ROBERTSON DR1628 25TH AV N1628 25TH AV N535 MAIN ST1212 HOLLY STMAIN ST / N 6TH ST703 MARGARET ROBERTSON DR333 UNION ST1421 WOODLAND ST2658 BARCLAY DRS 9TH ST / MAIN ST111 EVANDER ST938 W EASTLAND AV938 W EASTLAND AVN NEW HOPE RD / MYRA DR3622 CENTRAL PKE310 N 9TH ST206 S 10TH ST602 NEWHALL DR2129 BROOKVIEW DR30 MCFERRIN AVMERIDIAN ST / MERIDIAN CT149 BARKER RD310 JEFFERSON ST1819 KNOWLES ST2808 HUNTLEIGH DR1121 RUSSELL ST3213 FRENO LN1515 MARY ST321 BONNAHURST DR1111 FATHERLAND ST1601 HOLLY ST3911 WEST END AV1021 RUSSELL ST1021 RUSSELL STARTHUR AV / 11TH AV NMCGAVOCK PKE / STINSON RD2640 DELK AV310 N 9TH ST2602 BRITTANY DR4190 NOLENSVILLE PKE313 JEFFERSON ST1000 JEFFERSON ST935 SCOVEL ST2737 MCCAMPBELL AVROSA L PARKS BLVD / JEFFERSON ST3500 JOHN A MERRITT BLVD3500 JOHN A MERRITT BLVD2412 DENNYWOOD DRMELVIN RD / CENTRAL PKE704 RAMSEY ST4496 CLEECES FERRY RD1705 22ND AV NEXIT 49 I24 WCENTRAL PKE / STONERS BEND DR3851 SAUNDERS AV1209 PENNOCK AV1740 61ST AV N121 S 11TH ST368 KINGVIEW DR925 LEBANON PKE420 RAINTREE PL7117 CENTENNIAL BLVD3116 EDGEMONT DR95 MAURY ST1000 PENNOCK AV200 E WEBSTER ST528 HIGHCREST DR500 CHURCH ST SPRING ST / N 1ST ST901 MONROE ST 1161 TULIP GROVE RD1200 5TH AV N909 ROSA L PARKS BLVD1220 2ND AV N1731 24TH AV N856 BLOOMDALE TRC106 S 14TH ST107 NEILL AV1111 FATHERLAND STMM 169 CUMBERLAND R310 N 9TH ST404 HUNTERS PATH CT1413 JEFFERSON ST1413 JEFFERSON ST422 RAINTREE PL315 4TH AV N1056 MALLOW DR211 N 1ST ST3881 STEWARTS LN1407 10TH AV N431 LARKIN SPRINGS RD317 E MARTHONA RD2901 JOHN A MERRITT BLVD700 GALLATIN AV2311 WEONA DR171 N 6TH ST1711 KNOWLES ST535 MAIN ST535 MAIN ST4347 LEBANON PKE299 COWAN ST185 2ND AV N315 4TH AV N223 STONERS GLEN CT1161 TULIP GROVE RD431 LARKIN SPRINGS RD1000 ST LUKE DR800 COWAN ST 3027 FERNBROOK LN200 E WEBSTER ST1600 6TH AV N900 ROSA L PARKS BLVD368 BRITISH WOODS DR1845 WELCOME LN115 LAURA AVELLINGTON PKWY S / SPRING ST121 S 17TH ST1824 UNDERWOOD ST200 ATHENS WAY 2322 SELMA AV1202 7TH AV NNEWHALL DR / BRITTANY DR856 BLOOMDALE TRC1736 24TH AV NS 18TH ST / HOLLY STS 18TH ST / HOLLY STOLD HICKORY BLVD / LAWING DR713 RAMSEY ST 4215 HARDING PKELINCOYA DR / MERLYN LN609 MARGARET ROBERTSON DR609 MARGARET ROBERTSON DR821 RAMSEY ST1616 23RD AV N5610 OLD HICKORY BLVD2903 MORNINGSIDE DR1730 KELLOW STI24 W / HICKORY HOLLOW PKWY\n"
     ]
    }
   ],
   "source": [
    "Total = Tornado_incidents_df['Location'].sum()\n",
    "print (Total)"
   ]
  },
  {
   "cell_type": "code",
   "execution_count": null,
   "metadata": {},
   "outputs": [],
   "source": []
  }
 ],
 "metadata": {
  "kernelspec": {
   "display_name": "Python 3",
   "language": "python",
   "name": "python3"
  },
  "language_info": {
   "codemirror_mode": {
    "name": "ipython",
    "version": 3
   },
   "file_extension": ".py",
   "mimetype": "text/x-python",
   "name": "python",
   "nbconvert_exporter": "python",
   "pygments_lexer": "ipython3",
   "version": "3.8.3"
  }
 },
 "nbformat": 4,
 "nbformat_minor": 4
}
