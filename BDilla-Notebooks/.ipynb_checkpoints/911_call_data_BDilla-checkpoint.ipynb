{
 "cells": [
  {
   "cell_type": "code",
   "execution_count": 1,
   "metadata": {},
   "outputs": [
    {
     "ename": "ModuleNotFoundError",
     "evalue": "No module named 'geopy'",
     "output_type": "error",
     "traceback": [
      "\u001b[1;31m---------------------------------------------------------------------------\u001b[0m",
      "\u001b[1;31mModuleNotFoundError\u001b[0m                       Traceback (most recent call last)",
      "\u001b[1;32m<ipython-input-1-92b0ac12167f>\u001b[0m in \u001b[0;36m<module>\u001b[1;34m\u001b[0m\n\u001b[0;32m      4\u001b[0m \u001b[1;32mimport\u001b[0m \u001b[0mseaborn\u001b[0m \u001b[1;32mas\u001b[0m \u001b[0msns\u001b[0m\u001b[1;33m\u001b[0m\u001b[1;33m\u001b[0m\u001b[0m\n\u001b[0;32m      5\u001b[0m \u001b[1;32mimport\u001b[0m \u001b[0mfolium\u001b[0m\u001b[1;33m\u001b[0m\u001b[1;33m\u001b[0m\u001b[0m\n\u001b[1;32m----> 6\u001b[1;33m \u001b[1;32mimport\u001b[0m \u001b[0mgeopy\u001b[0m\u001b[1;33m\u001b[0m\u001b[1;33m\u001b[0m\u001b[0m\n\u001b[0m\u001b[0;32m      7\u001b[0m \u001b[1;32mimport\u001b[0m \u001b[0mnominatim\u001b[0m\u001b[1;33m\u001b[0m\u001b[1;33m\u001b[0m\u001b[0m\n\u001b[0;32m      8\u001b[0m \u001b[1;32mimport\u001b[0m \u001b[0mrequests\u001b[0m\u001b[1;33m\u001b[0m\u001b[1;33m\u001b[0m\u001b[0m\n",
      "\u001b[1;31mModuleNotFoundError\u001b[0m: No module named 'geopy'"
     ]
    }
   ],
   "source": [
    "import pandas as pd\n",
    "import numpy as np\n",
    "import matplotlib.pyplot as plt\n",
    "import seaborn as sns\n",
    "import folium\n",
    "import nominatim\n",
    "import requests\n",
    "from time import sleep\n",
    "from random import randint\n",
    "import geopandas as gpd\n",
    "from shapely.geometry import Point\n",
    "import datetime\n"
   ]
  },
  {
   "cell_type": "code",
   "execution_count": null,
   "metadata": {},
   "outputs": [],
   "source": [
    "derecho911_df = pd.read_csv ('../data/911_Phone_Calls_Derecho.csv')\n",
    "tornado911_df = pd.read_csv ('../data/911_Phone_Calls_Tornado.csv')\n",
    "tornado_incidents_df = pd.read_csv ('../data/Dispatch_Data_Tornado_Incidents.csv', skiprows = 3)\n",
    "derecho_incidents_df = pd.read_csv ('../data/Dispatch_Data_Derecho_Incidents.csv', skiprows = 3)\n",
    "single_family_housing_df = pd.read_csv('../data/2017 single family_final_with_sqft.txt')\n",
    "strp_df = pd.read_csv('../data/Residential_Short_Term_rental_Permits.csv', low_memory = False)"
   ]
  },
  {
   "cell_type": "code",
   "execution_count": null,
   "metadata": {},
   "outputs": [],
   "source": [
    "strp_df = strp_df.drop(columns = ['Applicant Home Phone' , 'Applicant Mobile Phone' , 'Applicant Work Phone' , 'Applicant Work Phone Ext.' , 'Contact Home Phone' , 'Contact Mobile Phone' , 'Contact Work Phone' , 'Contact Work Phone Ext.' , 'Subdivision / Lot' , 'Permit Owner Addr. 1' , 'Permit Owner Addr. 2' , 'Permit Owner Addr. 3' , 'Permit Owner City' , 'Permit Owner State' , 'Permit Owner ZIP' , 'Permit Subtype' , 'Census Tract'])"
   ]
  },
  {
   "cell_type": "code",
   "execution_count": null,
   "metadata": {},
   "outputs": [],
   "source": [
    "strp_df.columns = ['id' , 'applicant' , 'contact' , 'subtype_desc' , 'status' , 'parcel' , 'entered' , 'issued' , 'expiration' , 'address' , 'city' , 'state' , 'zip_code' , 'purpose' , 'permit_owner_name' , 'permit_type' , 'council_district' , 'mapped_location']"
   ]
  },
  {
   "cell_type": "code",
   "execution_count": null,
   "metadata": {},
   "outputs": [],
   "source": [
    "strp_df['issued'] = pd.to_datetime(strp_df['issued'], yearfirst = True)\n",
    "strp_df['year_issued'] = strp_df['issued'].dt.year\n",
    "strp_df1 = strp_df[strp_df.year_issued == 2019]"
   ]
  },
  {
   "cell_type": "code",
   "execution_count": null,
   "metadata": {},
   "outputs": [],
   "source": [
    "strp_df2 = strp_df1.groupby('zip_code')['issued'].count().reset_index()"
   ]
  }
 ],
 "metadata": {
  "kernelspec": {
   "display_name": "Python 3",
   "language": "python",
   "name": "python3"
  },
  "language_info": {
   "codemirror_mode": {
    "name": "ipython",
    "version": 3
   },
   "file_extension": ".py",
   "mimetype": "text/x-python",
   "name": "python",
   "nbconvert_exporter": "python",
   "pygments_lexer": "ipython3",
   "version": "3.7.4"
  }
 },
 "nbformat": 4,
 "nbformat_minor": 4
}
